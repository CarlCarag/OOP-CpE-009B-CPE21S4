{
  "nbformat": 4,
  "nbformat_minor": 0,
  "metadata": {
    "colab": {
      "provenance": [],
      "authorship_tag": "ABX9TyPLP9xbARJUqZIKq0AECfWC",
      "include_colab_link": true
    },
    "kernelspec": {
      "name": "python3",
      "display_name": "Python 3"
    },
    "language_info": {
      "name": "python"
    }
  },
  "cells": [
    {
      "cell_type": "markdown",
      "metadata": {
        "id": "view-in-github",
        "colab_type": "text"
      },
      "source": [
        "<a href=\"https://colab.research.google.com/github/CarlCarag/OOP-CpE-009B-CPE21S4/blob/main/Exercise_2_(Carag_00P)_.ipynb\" target=\"_parent\"><img src=\"https://colab.research.google.com/assets/colab-badge.svg\" alt=\"Open In Colab\"/></a>"
      ]
    },
    {
      "cell_type": "code",
      "execution_count": 5,
      "metadata": {
        "colab": {
          "base_uri": "https://localhost:8080/"
        },
        "id": "pteHyaZIWdqt",
        "outputId": "ac340924-a76c-4313-ebba-202d5ce48227"
      },
      "outputs": [
        {
          "output_type": "stream",
          "name": "stdout",
          "text": [
            "3\n",
            "4\n"
          ]
        },
        {
          "output_type": "execute_result",
          "data": {
            "text/plain": [
              "7"
            ]
          },
          "metadata": {},
          "execution_count": 5
        }
      ],
      "source": [
        "class foo:\n",
        "  def __init__(self, a, b):\n",
        "    self.a = a\n",
        "    self.b = b\n",
        "\n",
        "  def add(self):\n",
        "    return self.a + self.b\n",
        "\n",
        "foo_object = foo(3,4)\n",
        "print (foo_object.a)\n",
        "print (foo_object.b)\n",
        "foo_object.add()"
      ]
    },
    {
      "cell_type": "code",
      "source": [
        "\n",
        "\n",
        "#Example 2\n",
        "#Complete the program by adding object name and print output variable that display the instance/behavior of every function\n",
        "#Apply encapsulation by typing _ single underscore for private variable\n",
        "class Counter:\n",
        "  def __init__(self):\n",
        "    self._current = 0\n",
        "\n",
        "  def increment(self):\n",
        "    self._current += 1\n",
        "\n",
        "  def value(self):\n",
        "    return self._current\n",
        "\n",
        "  def reset(self):\n",
        "    self._current = 0\n",
        "\n",
        "#Execution of the Program\n",
        "counter = Counter()\n",
        "print(\"The first value of current\", counter._current)\n",
        "print(\"The Value of Increment: \", counter.increment())\n",
        "print(\"The Finished Value after Incrementation: \", counter.value())\n",
        "print(\"The Reset Value: \", counter.reset())"
      ],
      "metadata": {
        "colab": {
          "base_uri": "https://localhost:8080/"
        },
        "id": "-XUiijTSZ3RM",
        "outputId": "fd1588d7-7aaa-4448-958d-5bc9105f8976"
      },
      "execution_count": 23,
      "outputs": [
        {
          "output_type": "stream",
          "name": "stdout",
          "text": [
            "The first value of current 0\n",
            "The Value of Increment:  None\n",
            "The Finished Value after Incrementation:  1\n",
            "The Reset Value:  None\n"
          ]
        }
      ]
    }
  ]
}