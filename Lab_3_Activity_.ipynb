{
  "nbformat": 4,
  "nbformat_minor": 0,
  "metadata": {
    "colab": {
      "provenance": [],
      "authorship_tag": "ABX9TyOPIV4bpw1C8rGg7CIi/eII",
      "include_colab_link": true
    },
    "kernelspec": {
      "name": "python3",
      "display_name": "Python 3"
    },
    "language_info": {
      "name": "python"
    }
  },
  "cells": [
    {
      "cell_type": "markdown",
      "metadata": {
        "id": "view-in-github",
        "colab_type": "text"
      },
      "source": [
        "<a href=\"https://colab.research.google.com/github/CarlCarag/OOP-CpE-009B-CPE21S4/blob/main/Lab_3_Activity_.ipynb\" target=\"_parent\"><img src=\"https://colab.research.google.com/assets/colab-badge.svg\" alt=\"Open In Colab\"/></a>"
      ]
    },
    {
      "cell_type": "code",
      "execution_count": 12,
      "metadata": {
        "colab": {
          "base_uri": "https://localhost:8080/"
        },
        "id": "cwPdM-9ViZ7L",
        "outputId": "79173e49-cc7f-45d9-e64a-c9635e4470bd"
      },
      "outputs": [
        {
          "output_type": "stream",
          "name": "stdout",
          "text": [
            "Fulltime\n",
            "Employee ID: 1234\n",
            "Employee Name: Zack\n",
            "Employee Address: Manila\n",
            "Allowance: (88, 999)\n",
            "Rate: 4567\n",
            "Salary\n",
            "Salary ID: 2789\n",
            "Salary: 15000\n",
            "Cut of Date: March 30, 2025\n",
            "Days of Work: 65\n"
          ]
        }
      ],
      "source": [
        "# Laboratory No.3 Inheritance, Encapsulation, and Abstraction\n",
        "\n",
        "#Create a program in python that satisfies the following:\n",
        "\n",
        "class Employee:\n",
        "  def __init__(self, emp_id, emp_name, emp_address, allowance, rate, salary_id, salary, cut_off_date, days_of_work):\n",
        "    self._emp_id = emp_id\n",
        "    self._emp_name = emp_name\n",
        "    self._emp_address = emp_address\n",
        "    self._allowance = allowance\n",
        "    self._rate = rate\n",
        "    self._salary_id = salary_id\n",
        "    self._salary = salary\n",
        "    self._cut_off_date = cut_off_date\n",
        "    self._days_of_work = days_of_work\n",
        "\n",
        "\n",
        "  def description(self):\n",
        "    return f\"Fulltime\\nEmployee ID: {self._emp_id}\\nEmployee Name: {self._emp_name}\\nEmployee Address: {self._emp_address}\\nAllowance: {self._allowance}\\nRate: {self._rate}\\nSalary\\nSalary ID: {self._salary_id}\\nSalary: {self._salary}\\nCut of Date: {self._cut_off_date}\\nDays of Work: {self._days_of_work}\"\n",
        "\n",
        "class Parttime(Employee):\n",
        "  pass\n",
        "\n",
        "  def description(self):\n",
        "    return f\"Fulltime\\n Employee ID: {self._emp_id}\\nEmployee Name: {self._emp_name}\\nEmployee Address: {self._emp_address}\\nAllowance: {self._allowance}\\nRate: {self._rate}\\nSalary\\nSalary ID: {self._salary_id}\\nSalary: {self._salary}\\nCut of Date: {self._cut_off_date}\\nDays of Work: {self._days_of_work}\"\n",
        "\n",
        "class Fulltime(Employee):\n",
        "  def __init__(self, emp_id, emp_name, emp_address, allowance, rate):\n",
        "    super().__init__(emp_id, emp_name, emp_address, allowance, rate)\n",
        "    self._allowance = allowance\n",
        "    self._rate = rate\n",
        "  def description(self):\n",
        "    return f\"Fulltime\\n Employee ID: {self._emp_id}\\nEmployee Name: {self._emp_name}\\nEmployee Address: {self._emp_address}\\nAllowance: {self._allowance}\\nRate: {self._rate}\\nSalary\\nSalary ID: {self._salary_id}\\nSalary: {self._salary}\\nCut of Date: {self._cut_off_date}\\nDays of Work: {self._days_of_work}\"\n",
        "\n",
        "class Salary(Employee):\n",
        "  def __init__(self, emp_id, emp_name, emp_address, allowance, rate):\n",
        "    super().__init__(emp_id, emp_name, emp_address, allowance, rate)\n",
        "    self._allowance = allowance\n",
        "    self._rate = rate\n",
        "  def description(self):\n",
        "    return f\"Fulltime\\n Employee ID: {self._emp_id}\\nEmployee Name: {self._emp_name}\\nEmployee Address: {self._emp_address}\\nAllowance: {self._allowance}\\nRate: {self._rate}\\nSalary\\nSalary ID: {self._salary_id}\\nSalary: {self._salary}\\nCut of Date: {self._cut_off_date}\\nDays of Work: {self._days_of_work}\"\n",
        "\n",
        "\n",
        "\n",
        "the_employee = Employee(1234, \"Zack\", \"Manila\", (88,999), 4567, 2789,15000,\"March 30, 2025\", 65)\n",
        "print(the_employee.description())"
      ]
    }
  ]
}