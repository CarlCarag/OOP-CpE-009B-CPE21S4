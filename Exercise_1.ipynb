{
  "nbformat": 4,
  "nbformat_minor": 0,
  "metadata": {
    "colab": {
      "provenance": [],
      "authorship_tag": "ABX9TyPvwAsM5WYaha/uBpZgTx7K",
      "include_colab_link": true
    },
    "kernelspec": {
      "name": "python3",
      "display_name": "Python 3"
    },
    "language_info": {
      "name": "python"
    }
  },
  "cells": [
    {
      "cell_type": "markdown",
      "metadata": {
        "id": "view-in-github",
        "colab_type": "text"
      },
      "source": [
        "<a href=\"https://colab.research.google.com/github/CarlCarag/OOP-CpE-009B-CPE21S4/blob/main/Exercise_1.ipynb\" target=\"_parent\"><img src=\"https://colab.research.google.com/assets/colab-badge.svg\" alt=\"Open In Colab\"/></a>"
      ]
    },
    {
      "cell_type": "code",
      "execution_count": 11,
      "metadata": {
        "colab": {
          "base_uri": "https://localhost:8080/"
        },
        "id": "om3ll4JlFHcx",
        "outputId": "e7a4230c-1b15-4e97-f326-2937adff62b7"
      },
      "outputs": [
        {
          "output_type": "stream",
          "name": "stdout",
          "text": [
            "1\n"
          ]
        }
      ],
      "source": [
        "#Class Constructor\n",
        "class Number:\n",
        "  def __init__(self,x):\n",
        "    self.x = 1\n",
        "\n",
        "a = Number(1)\n",
        "print(a.x)\n"
      ]
    },
    {
      "cell_type": "code",
      "source": [
        "#Super Class Constructor\n",
        "class Person:\n",
        "  def __init__(self,name,age,birthdate): #definfing attributes and identity\n",
        "    self.name = name\n",
        "    self.age = age\n",
        "    self.birthdate = birthdate\n",
        "\n",
        "  def person_attribute(self): #metod constructor\n",
        "    return f\"My name is({self.name} and with an age of {self.age} and birthdate of {self.birthdate}\"  #Need to return for the code to work\n",
        "\n",
        "class Teacher(Person): #subclass constructor\n",
        "  pass\n",
        "class Student(Person): #subclass constructor\n",
        "  pass\n",
        "\n",
        "#Object Instation\n",
        "person = Person(\"Carl\", 19, \"Oct 14\") #behavior of class\n",
        "print(person.person_attribute())\n",
        "student = Student(\"Bin\", 11, \"Oct 12 1988\")\n",
        "print(student.name)\n",
        "print(student.age)\n",
        "print(student.birthdate)\n",
        "\n",
        "ticher = Teacher(\"Reuel\", 61, \"Davao City\")\n",
        "print(ticher.person_attribute())\n",
        "\n",
        "\n",
        "\n",
        "\n"
      ],
      "metadata": {
        "colab": {
          "base_uri": "https://localhost:8080/"
        },
        "id": "y9O47o2_H5C-",
        "outputId": "427127a2-71ba-4fe4-f51a-5c712c4c9bff"
      },
      "execution_count": 58,
      "outputs": [
        {
          "output_type": "stream",
          "name": "stdout",
          "text": [
            "My name is(Carl and with an age of 19 and birthdate of Oct 14\n",
            "Bin\n",
            "11\n",
            "Oct 12 1988\n",
            "My name is(Reuel and with an age of 61 and birthdate of Davao City\n"
          ]
        }
      ]
    },
    {
      "cell_type": "code",
      "source": [
        "#Challenging Python Problem:\n",
        "\n",
        "''' Create a python program:\n",
        "1. Super class as Shapes\n",
        "2. Subclasses : Rectangle, Square\n",
        "3. Methods : Perimeter(), Area()\n",
        "4. Object name: rectangle, square\n",
        "5. Inherits the attributes of Super class shapes\n",
        "self.side=side\n",
        "\n",
        "'''\n",
        "#1 Super Class using \"Shapes\"\n",
        "class Shapes:\n",
        "  def __init__(self,sideone, sidetwo):\n",
        "    self.sideone = sideone\n",
        "    self.sidetwo = sidetwo\n",
        "\n",
        "#3 Method using Perimeter and Area\n",
        "  def Perimeter(self):\n",
        "    return 2*(self.sideone + self.sidetwo)\n",
        "\n",
        "  def Area(self):\n",
        "    return self.sideone * self.sidetwo\n",
        "\n",
        "\n",
        "#2 Subclass using Rectangle and Square\n",
        "class Rectangle(Shapes):\n",
        "  pass # This is to Inherit the attributes of the Superclass\n",
        "\n",
        "class Square(Shapes):\n",
        "  pass # This is to Inherit the attributes of the Superclass\n",
        "\n",
        "ForLength = int(input(\"Please Enter the length of the rectangle: \"))\n",
        "ForWidth = int(input(\"Please Enter the width of the rectangle: \"))\n",
        "\n",
        "rectangle = Rectangle(ForLength,ForWidth)\n",
        "print(\"The Final perimeter of the rectangle is\",rectangle.Perimeter())\n",
        "print(\"The Final area of the rectangle is\", rectangle.Area())\n",
        "\n",
        "side = float(input(\"Enter the side of the square: \"))\n",
        "square = Square(side,side)\n",
        "print(\"The Final perimeter of the square is\", square.Perimeter())\n",
        "print(\"The Final area of the square is\", square.Area())\n"
      ],
      "metadata": {
        "colab": {
          "base_uri": "https://localhost:8080/"
        },
        "id": "fCDIymH-R2Yq",
        "outputId": "4b10c57f-8ce8-45ae-fcd0-0dd2712160f1"
      },
      "execution_count": 59,
      "outputs": [
        {
          "output_type": "stream",
          "name": "stdout",
          "text": [
            "Please Enter the length of the rectangle: 3\n",
            "Please Enter the width of the rectangle: 4\n",
            "The Final perimeter of the rectangle is 14\n",
            "The Final area of the rectangle is 12\n",
            "Enter the side of the square: 200\n",
            "The Final perimeter of the square is 800.0\n",
            "The Final area of the square is 40000.0\n"
          ]
        }
      ]
    }
  ]
}